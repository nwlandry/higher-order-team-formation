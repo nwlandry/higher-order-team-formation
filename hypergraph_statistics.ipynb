{
 "cells": [
  {
   "cell_type": "code",
   "execution_count": null,
   "metadata": {},
   "outputs": [],
   "source": [
    "import xgi\n",
    "\n",
    "from src import *\n",
    "\n",
    "size = 3\n",
    "\n",
    "conferences = [\n",
    "    (\"AES\", 2017),\n",
    "    (\"CMC\", 2018),\n",
    "    (\"MCL\", 2015),\n",
    "    (\"TDA\", 2015),\n",
    "]\n",
    "\n",
    "dataset_folder = \"higher-order-datasets\"\n",
    "\n",
    "interaction_networks = {}\n",
    "for c in conferences:\n",
    "    series, year = c\n",
    "    interaction_networks[c] = xgi.read_hif(\n",
    "        f\"{dataset_folder}/interaction_network_{series}_{year}.json\"\n",
    "    )\n",
    "\n",
    "collaboration_networks = {}\n",
    "for c in conferences:\n",
    "    series, year = c\n",
    "    collaboration_networks[c] = xgi.read_hif(\n",
    "        f\"{dataset_folder}/collaboration_network_{series}_{year}.json\"\n",
    "    )"
   ]
  },
  {
   "cell_type": "code",
   "execution_count": 2,
   "metadata": {},
   "outputs": [],
   "source": [
    "def generate_table_row(H):\n",
    "    n = H.num_nodes\n",
    "    m = H.num_edges\n",
    "    k = round(H.nodes.degree.mean(), 2)\n",
    "    s = round(H.edges.size.mean(), 2)\n",
    "    num_dyads = len(H.edges.filterby(\"size\", 2))\n",
    "    num_triangles = len(H.edges.filterby(\"size\", 2))\n",
    "    W = xgi.clique_motif_matrix(H, sparse=False)\n",
    "    d = round(W.sum(axis=1).mean(), 2)\n",
    "    su, counts = H.edges.size.unique(return_counts=True)\n",
    "    su = np.char.mod('%d', su)\n",
    "    # print(np.round(counts/sum(counts), 2))\n",
    "    return f\"{n} & {m} & {k} & {d} & {s} & {\", \".join(su)}\\\\\\\\\""
   ]
  },
  {
   "cell_type": "code",
   "execution_count": null,
   "metadata": {},
   "outputs": [
    {
     "name": "stdout",
     "output_type": "stream",
     "text": [
      "\\textbf{AES 2017}&&&&&\\\\\n",
      "interaction && 60 & 104 & 8.0 & 44.0 & 4.62 & 3, 10\\\\\n",
      "collaboration && 56 & 35 & 1.59 & 2.64 & 2.54 & 2, 3, 4\\\\[0.1in]\n",
      "\\textbf{CMC 2018}&&&&&\\\\\n",
      "interaction && 50 & 88 & 8.0 & 43.84 & 4.55 & 2, 3, 10\\\\\n",
      "collaboration && 45 & 24 & 1.42 & 2.49 & 2.67 & 2, 3\\\\[0.1in]\n",
      "\\textbf{MCL 2015}&&&&&\\\\\n",
      "interaction && 64 & 54 & 5.33 & 40.12 & 6.31 & 4, 12, 13\\\\\n",
      "collaboration && 40 & 20 & 1.3 & 2.3 & 2.6 & 2, 3, 4\\\\[0.1in]\n",
      "\\textbf{TDA 2015}&&&&&\\\\\n",
      "interaction && 49 & 72 & 8.0 & 46.53 & 5.44 & 3, 4, 9, 10\\\\\n",
      "collaboration && 45 & 29 & 1.53 & 2.27 & 2.38 & 2, 3\\\\[0.1in]\n"
     ]
    }
   ],
   "source": [
    "for c in conferences:\n",
    "    series, year = c\n",
    "    H1 = interaction_networks[(series, year)]\n",
    "    print(f\"\\\\textbf{{{series} {year}}}&&&&&\\\\\\\\\")\n",
    "    print(\"interaction && \" + generate_table_row(H1))\n",
    "    H2 = collaboration_networks[(series, year)]\n",
    "    print(\"collaboration && \" + generate_table_row(H2) + \"[0.1in]\")"
   ]
  }
 ],
 "metadata": {
  "kernelspec": {
   "display_name": "xgi",
   "language": "python",
   "name": "python3"
  },
  "language_info": {
   "codemirror_mode": {
    "name": "ipython",
    "version": 3
   },
   "file_extension": ".py",
   "mimetype": "text/x-python",
   "name": "python",
   "nbconvert_exporter": "python",
   "pygments_lexer": "ipython3",
   "version": "3.12.4"
  }
 },
 "nbformat": 4,
 "nbformat_minor": 2
}
